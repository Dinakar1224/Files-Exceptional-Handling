{
  "nbformat": 4,
  "nbformat_minor": 0,
  "metadata": {
    "colab": {
      "provenance": []
    },
    "kernelspec": {
      "name": "python3",
      "display_name": "Python 3"
    },
    "language_info": {
      "name": "python"
    }
  },
  "cells": [
    {
      "cell_type": "markdown",
      "source": [
        " 4.Write a Python program using multithreading where one thread adds numbers to a list, and another"
      ],
      "metadata": {
        "id": "912chxnBcVFC"
      }
    },
    {
      "cell_type": "code",
      "source": [
        "import threading\n",
        "import time\n",
        "\n",
        "# Shared resource\n",
        "numbers = []\n",
        "# Lock for synchronizing access to the shared resource\n",
        "lock = threading.Lock()\n",
        "\n",
        "def add_numbers():\n",
        "    for i in range(1, 11):\n",
        "        with lock:\n",
        "            numbers.append(i)\n",
        "            print(f\"Added {i}\")\n",
        "        time.sleep(1)\n",
        "\n",
        "def process_numbers():\n",
        "    while True:\n",
        "        with lock:\n",
        "            if numbers:\n",
        "                num = numbers.pop(0)\n",
        "                print(f\"Processed {num}\")\n",
        "            else:\n",
        "\n",
        "                break\n",
        "        time.sleep(2)\n",
        "\n",
        "def main():\n",
        "\n",
        "    producer_thread = threading.Thread(target=add_numbers)\n",
        "    consumer_thread = threading.Thread(target=process_numbers)\n",
        "\n",
        "\n",
        "    producer_thread.start()\n",
        "    consumer_thread.start()\n",
        "\n",
        "    producer_thread.join()\n",
        "    consumer_thread.join()\n",
        "\n",
        "if __name__ == \"__main__\":\n",
        "    main()\n"
      ],
      "metadata": {
        "colab": {
          "base_uri": "https://localhost:8080/"
        },
        "id": "GgGZoZppcVtx",
        "outputId": "0cab97f3-a987-4099-d141-b4f71b21367f"
      },
      "execution_count": null,
      "outputs": [
        {
          "output_type": "stream",
          "name": "stdout",
          "text": [
            "Added 1\n",
            "Processed 1\n",
            "Added 2\n",
            "Added 3\n",
            "Processed 2\n",
            "Added 4\n",
            "Added 5\n",
            "Processed 3\n",
            "Added 6\n",
            "Added 7\n",
            "Processed 4\n",
            "Added 8\n",
            "Added 9\n",
            "Processed 5\n",
            "Added 10\n",
            "Processed 6\n",
            "Processed 7\n",
            "Processed 8\n",
            "Processed 9\n",
            "Processed 10\n"
          ]
        }
      ]
    },
    {
      "cell_type": "markdown",
      "source": [
        "7. Create a program that uses a thread pool to calculate the factorial of numbers from 1 to 10 concurrently. Use concurrent.futures.ThreadPoolExecutor to manage the threads"
      ],
      "metadata": {
        "id": "TpeojsF-cZ9P"
      }
    },
    {
      "cell_type": "code",
      "source": [
        "import concurrent.futures\n",
        "import math\n",
        "\n",
        "\n",
        "def compute_factorial(n):\n",
        "    return math.factorial(n)\n",
        "\n",
        "def main():\n",
        "\n",
        "    numbers = range(1, 11)\n",
        "\n",
        "    with concurrent.futures.ThreadPoolExecutor(max_workers=5) as executor:\n",
        "\n",
        "        futures = {executor.submit(compute_factorial, num): num for num in numbers}\n",
        "\n",
        "\n",
        "        for future in concurrent.futures.as_completed(futures):\n",
        "            num = futures[future]\n",
        "            try:\n",
        "                result = future.result()\n",
        "                print(f\"Factorial of {num} is {result}\")\n",
        "            except Exception as e:\n",
        "                print(f\"Exception occurred for number {num}: {e}\")\n",
        "\n",
        "if __name__ == \"__main__\":\n",
        "    main()\n"
      ],
      "metadata": {
        "colab": {
          "base_uri": "https://localhost:8080/"
        },
        "id": "tW8l266mccx7",
        "outputId": "86517de6-1958-4ed3-8c99-5d37da6f3436"
      },
      "execution_count": null,
      "outputs": [
        {
          "output_type": "stream",
          "name": "stdout",
          "text": [
            "Factorial of 2 is 2\n",
            "Factorial of 6 is 720\n",
            "Factorial of 3 is 6\n",
            "Factorial of 7 is 5040\n",
            "Factorial of 10 is 3628800\n",
            "Factorial of 5 is 120\n",
            "Factorial of 1 is 1\n",
            "Factorial of 8 is 40320\n",
            "Factorial of 4 is 24\n",
            "Factorial of 9 is 362880\n"
          ]
        }
      ]
    },
    {
      "cell_type": "markdown",
      "source": [
        "8. Create a Python program that uses multiprocessing.Pool to compute the square of numbers from 1 to 10 in\n",
        "parallel. Measure the time taken to perform this computation using a pool of different sizes (e.g., 2, 4, 8\n",
        "processes)"
      ],
      "metadata": {
        "id": "PggPQ2IKdUYl"
      }
    },
    {
      "cell_type": "code",
      "source": [
        "import multiprocessing\n",
        "import time\n",
        "\n",
        "def compute_square(n):\n",
        "    return n * n\n",
        "\n",
        "def main():\n",
        "    numbers = list(range(1, 11))\n",
        "    pool_sizes = [2, 4, 8]\n",
        "\n",
        "    for pool_size in pool_sizes:\n",
        "        print(f\"\\nTesting with pool size: {pool_size}\")\n",
        "\n",
        "\n",
        "        start_time = time.time()\n",
        "\n",
        "\n",
        "        with multiprocessing.Pool(processes=pool_size) as pool:\n",
        "\n",
        "            results = pool.map(compute_square, numbers)\n",
        "\n",
        "\n",
        "        elapsed_time = time.time() - start_time\n",
        "\n",
        "        print(f\"Results: {results}\")\n",
        "        print(f\"Time taken: {elapsed_time:.4f} seconds\")\n",
        "\n",
        "if __name__ == \"__main__\":\n",
        "    main()\n"
      ],
      "metadata": {
        "colab": {
          "base_uri": "https://localhost:8080/"
        },
        "id": "ZKRXcMCQdOZe",
        "outputId": "f47ffd19-7662-43bb-b62b-4e2681e60108"
      },
      "execution_count": null,
      "outputs": [
        {
          "output_type": "stream",
          "name": "stdout",
          "text": [
            "\n",
            "Testing with pool size: 2\n",
            "Results: [1, 4, 9, 16, 25, 36, 49, 64, 81, 100]\n",
            "Time taken: 0.1371 seconds\n",
            "\n",
            "Testing with pool size: 4\n",
            "Results: [1, 4, 9, 16, 25, 36, 49, 64, 81, 100]\n",
            "Time taken: 0.0671 seconds\n",
            "\n",
            "Testing with pool size: 8\n",
            "Results: [1, 4, 9, 16, 25, 36, 49, 64, 81, 100]\n",
            "Time taken: 0.1209 seconds\n"
          ]
        }
      ]
    },
    {
      "cell_type": "code",
      "source": [],
      "metadata": {
        "id": "9NPWR2-GdjUW"
      },
      "execution_count": null,
      "outputs": []
    }
  ]
}